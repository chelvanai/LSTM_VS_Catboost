{
  "nbformat": 4,
  "nbformat_minor": 0,
  "metadata": {
    "colab": {
      "provenance": []
    },
    "kernelspec": {
      "name": "python3",
      "display_name": "Python 3"
    },
    "language_info": {
      "name": "python"
    }
  },
  "cells": [
    {
      "cell_type": "code",
      "execution_count": 1,
      "metadata": {
        "id": "QBofbVendKSn"
      },
      "outputs": [],
      "source": [
        "import matplotlib.pyplot as plt\n",
        "import numpy as np\n",
        "import pandas as pd\n",
        "import torch\n",
        "import torch.nn as nn\n",
        "from sklearn.preprocessing import MinMaxScaler\n",
        "from torch.autograd import Variable\n",
        "from torch.utils import tensorboard"
      ]
    },
    {
      "cell_type": "code",
      "source": [
        "series = np.array([119., 127., 101., 116., 124., 134., 118.,  94.,  80.,  70.,  68.,\n",
        "        92., 120.,  94., 100.,  98.,  78.,  97.,  94., 121., 130., 121.,\n",
        "       139., 158.,  93.,  86., 101.,  90., 112., 121., 100., 117., 146.,\n",
        "       170., 195., 188., 173., 181., 147., 202., 155., 181., 199., 210.,\n",
        "       203., 222., 260., 255., 213., 153., 148., 133.])"
      ],
      "metadata": {
        "id": "4pniD65edeHm"
      },
      "execution_count": 2,
      "outputs": []
    },
    {
      "cell_type": "code",
      "source": [
        "actual = [297., 164., 201.,127.]"
      ],
      "metadata": {
        "id": "GrtKmczWdUin"
      },
      "execution_count": 3,
      "outputs": []
    },
    {
      "cell_type": "code",
      "source": [
        "training_set = np.array(series)\n",
        "training_set = np.expand_dims(training_set, axis=1)\n",
        "\n",
        "sc = MinMaxScaler()\n",
        "training_data = sc.fit_transform(training_set)\n",
        "\n",
        "\n",
        "def sliding_windows(data, seq_length):\n",
        "    x = []\n",
        "    y = []\n",
        "\n",
        "    for i in range(len(data) - seq_length):\n",
        "        _x = data[i:(i + seq_length)]\n",
        "        _y = data[i + seq_length]\n",
        "        x.append(_x)\n",
        "        y.append(_y)\n",
        "\n",
        "    return np.array(x), np.array(y)\n",
        "\n",
        "\n",
        "num_epochs = 1500\n",
        "learning_rate = 0.01\n",
        "\n",
        "input_size = 1\n",
        "hidden_size = 100\n",
        "num_layers = 1\n",
        "\n",
        "num_classes = 1\n",
        "seq_length = 8\n",
        "\n",
        "torch.manual_seed(0)\n",
        "\n",
        "tb = tensorboard.SummaryWriter()\n",
        "\n",
        "\n",
        "class LSTM(nn.Module):\n",
        "\n",
        "    def __init__(self, input_size, hidden_size, num_classes, num_layers):\n",
        "        super(LSTM, self).__init__()\n",
        "\n",
        "        self.num_classes = num_classes\n",
        "        self.num_layers = num_layers\n",
        "        self.input_size = input_size\n",
        "        self.hidden_size = hidden_size\n",
        "        self.seq_length = seq_length\n",
        "\n",
        "        self.lstm = nn.LSTM(input_size=input_size, hidden_size=hidden_size,\n",
        "                            num_layers=num_layers, batch_first=True)\n",
        "\n",
        "        self.fc = nn.Linear(hidden_size, num_classes)\n",
        "\n",
        "    def forward(self, x):\n",
        "        h_0 = Variable(torch.zeros(\n",
        "            self.num_layers, x.size(0), self.hidden_size))\n",
        "\n",
        "        c_0 = Variable(torch.zeros(\n",
        "            self.num_layers, x.size(0), self.hidden_size))\n",
        "\n",
        "        # Propagate input through LSTM\n",
        "        ula, (h_out, _) = self.lstm(x, (h_0, c_0))\n",
        "\n",
        "        h_out = h_out.view(-1, self.hidden_size)\n",
        "\n",
        "        out = self.fc(h_out)\n",
        "\n",
        "        return out\n",
        "\n",
        "\n",
        "def train(training_data):\n",
        "    x, y = sliding_windows(training_data, seq_length)\n",
        "\n",
        "    dataX = Variable(torch.Tensor(np.array(x)))\n",
        "    dataY = Variable(torch.Tensor(np.array(y)))\n",
        "\n",
        "    best_valid_loss = 2\n",
        "\n",
        "    lstm = LSTM(input_size, hidden_size, num_classes, num_layers)\n",
        "\n",
        "    criterion = torch.nn.MSELoss()\n",
        "    optimizer = torch.optim.Adam(lstm.parameters(), lr=learning_rate)\n",
        "\n",
        "    tb.add_graph(lstm, dataX)\n",
        "\n",
        "    lstm.train()\n",
        "\n",
        "    # Train the model\n",
        "    for epoch in range(num_epochs):\n",
        "        optimizer.zero_grad()\n",
        "        outputs = lstm(dataX)\n",
        "        loss = criterion(outputs, dataY)\n",
        "        loss.backward()\n",
        "        optimizer.step()\n",
        "        if epoch % 100 == 0:\n",
        "            print(\"Epoch \", epoch)\n",
        "            print(\"Loss \", loss.item())\n",
        "\n",
        "            if loss.item() < best_valid_loss:\n",
        "                best_valid_loss = loss.item()\n",
        "                print(\"Weight saves!\")\n",
        "                torch.save(lstm.state_dict(), 'weight.pth')\n",
        "\n",
        "\n",
        "train(training_data)\n"
      ],
      "metadata": {
        "colab": {
          "base_uri": "https://localhost:8080/"
        },
        "id": "CaipPTY1dLGx",
        "outputId": "937f094d-e9d3-42ea-9dc7-1ab65fd93aaa"
      },
      "execution_count": 4,
      "outputs": [
        {
          "output_type": "stream",
          "name": "stdout",
          "text": [
            "Epoch  0\n",
            "Loss  0.19549161195755005\n",
            "Weight saves!\n",
            "Epoch  100\n",
            "Loss  0.014875472523272038\n",
            "Weight saves!\n",
            "Epoch  200\n",
            "Loss  0.011450642719864845\n",
            "Weight saves!\n",
            "Epoch  300\n",
            "Loss  0.0029672360979020596\n",
            "Weight saves!\n",
            "Epoch  400\n",
            "Loss  3.237196551708621e-06\n",
            "Weight saves!\n",
            "Epoch  500\n",
            "Loss  1.416461947734149e-10\n",
            "Weight saves!\n",
            "Epoch  600\n",
            "Loss  4.3425668199174525e-14\n",
            "Weight saves!\n",
            "Epoch  700\n",
            "Loss  0.00018976785941049457\n",
            "Epoch  800\n",
            "Loss  1.1195202542779725e-09\n",
            "Epoch  900\n",
            "Loss  1.4810767629686028e-12\n",
            "Epoch  1000\n",
            "Loss  2.0390236841194564e-06\n",
            "Epoch  1100\n",
            "Loss  2.133142334059812e-05\n",
            "Epoch  1200\n",
            "Loss  1.7759176351717088e-09\n",
            "Epoch  1300\n",
            "Loss  6.035152637196006e-06\n",
            "Epoch  1400\n",
            "Loss  2.9318278360612737e-10\n"
          ]
        }
      ]
    },
    {
      "cell_type": "code",
      "source": [
        "model = LSTM(input_size, hidden_size, num_classes, num_layers)\n",
        "model.load_state_dict(torch.load('weight.pth'))\n",
        "model.eval()\n",
        "\n",
        "with torch.no_grad():\n",
        "    n_days = 5\n",
        "    res = []\n",
        "    data = training_data.tolist()\n",
        "\n",
        "    for i in range(1, n_days):\n",
        "        test = torch.Tensor(np.array(data[-seq_length:]))\n",
        "\n",
        "        predict = model(test.unsqueeze(0)).data.numpy()\n",
        "        res.append(predict.item())\n",
        "\n",
        "        data.append(predict.tolist()[0])\n",
        "\n",
        "result = np.array(res)\n",
        "final = sc.inverse_transform(np.expand_dims(result, axis=1))\n",
        "output = np.squeeze(final, axis=1).tolist()\n",
        "\n",
        "print(output)"
      ],
      "metadata": {
        "colab": {
          "base_uri": "https://localhost:8080/"
        },
        "id": "ED6Oe0OIdLJe",
        "outputId": "23f78eca-ef98-4e58-9ac0-5837702b205e"
      },
      "execution_count": 5,
      "outputs": [
        {
          "output_type": "stream",
          "name": "stdout",
          "text": [
            "[119.04231452941895, 121.38455390930176, 134.72479438781738, 131.9392795562744]\n"
          ]
        }
      ]
    },
    {
      "cell_type": "code",
      "source": [
        "plt.plot(series)\n",
        "plt.plot(np.arange(len(series), len(series) + 4), output)\n",
        "plt.show()"
      ],
      "metadata": {
        "colab": {
          "base_uri": "https://localhost:8080/",
          "height": 265
        },
        "id": "TbOy7kC7iiLB",
        "outputId": "0f50ac66-5d69-41f8-d05c-ef49a03ae4e3"
      },
      "execution_count": 6,
      "outputs": [
        {
          "output_type": "display_data",
          "data": {
            "text/plain": [
              "<Figure size 432x288 with 1 Axes>"
            ],
            "image/png": "[encoded data removed]"
          },
          "metadata": {
            "needs_background": "light"
          }
        }
      ]
    },
    {
      "cell_type": "code",
      "source": [
        "result_df = pd.DataFrame({'Actual':actual,'Prediction':output})"
      ],
      "metadata": {
        "id": "z3w24cY2kDpI"
      },
      "execution_count": 7,
      "outputs": []
    },
    {
      "cell_type": "code",
      "source": [
        "result_df['difference'] = round(result_df['Actual'] - result_df['Prediction'], 2)\n",
        "result_df['error-percentage'] = (result_df['difference'] / result_df['Actual']) * 100\n",
        "result_df['error-percentage'] = result_df['error-percentage'].apply(lambda x: round(x, 2))"
      ],
      "metadata": {
        "id": "aA4KjVKLkDug"
      },
      "execution_count": 8,
      "outputs": []
    },
    {
      "cell_type": "code",
      "source": [
        "result_df"
      ],
      "metadata": {
        "colab": {
          "base_uri": "https://localhost:8080/",
          "height": 175
        },
        "id": "-Kx69OkhkDxl",
        "outputId": "2a5d9d7f-80bb-41a3-db60-0fa3a7ad5e14"
      },
      "execution_count": 9,
      "outputs": [
        {
          "output_type": "execute_result",
          "data": {
            "text/plain": [
              "   Actual  Prediction  difference  error-percentage\n",
              "0   297.0  119.042315      177.96             59.92\n",
              "1   164.0  121.384554       42.62             25.99\n",
              "2   201.0  134.724794       66.28             32.98\n",
              "3   127.0  131.939280       -4.94             -3.89"
            ],
            "text/html": [
              "\n",
              "  <div id=\"df-1913e495-a214-4fca-96c9-6e9da2f664be\">\n",
              "    <div class=\"colab-df-container\">\n",
              "      <div>\n",
              "<style scoped>\n",
              "    .dataframe tbody tr th:only-of-type {\n",
              "        vertical-align: middle;\n",
              "    }\n",
              "\n",
              "    .dataframe tbody tr th {\n",
              "        vertical-align: top;\n",
              "    }\n",
              "\n",
              "    .dataframe thead th {\n",
              "        text-align: right;\n",
              "    }\n",
              "</style>\n",
              "<table border=\"1\" class=\"dataframe\">\n",
              "  <thead>\n",
              "    <tr style=\"text-align: right;\">\n",
              "      <th></th>\n",
              "      <th>Actual</th>\n",
              "      <th>Prediction</th>\n",
              "      <th>difference</th>\n",
              "      <th>error-percentage</th>\n",
              "    </tr>\n",
              "  </thead>\n",
              "  <tbody>\n",
              "    <tr>\n",
              "      <th>0</th>\n",
              "      <td>297.0</td>\n",
              "      <td>119.042315</td>\n",
              "      <td>177.96</td>\n",
              "      <td>59.92</td>\n",
              "    </tr>\n",
              "    <tr>\n",
              "      <th>1</th>\n",
              "      <td>164.0</td>\n",
              "      <td>121.384554</td>\n",
              "      <td>42.62</td>\n",
              "      <td>25.99</td>\n",
              "    </tr>\n",
              "    <tr>\n",
              "      <th>2</th>\n",
              "      <td>201.0</td>\n",
              "      <td>134.724794</td>\n",
              "      <td>66.28</td>\n",
              "      <td>32.98</td>\n",
              "    </tr>\n",
              "    <tr>\n",
              "      <th>3</th>\n",
              "      <td>127.0</td>\n",
              "      <td>131.939280</td>\n",
              "      <td>-4.94</td>\n",
              "      <td>-3.89</td>\n",
              "    </tr>\n",
              "  </tbody>\n",
              "</table>\n",
              "</div>\n",
              "      <button class=\"colab-df-convert\" onclick=\"convertToInteractive('df-1913e495-a214-4fca-96c9-6e9da2f664be')\"\n",
              "              title=\"Convert this dataframe to an interactive table.\"\n",
              "              style=\"display:none;\">\n",
              "        \n",
              "  <svg xmlns=\"http://www.w3.org/2000/svg\" height=\"24px\"viewBox=\"0 0 24 24\"\n",
              "       width=\"24px\">\n",
              "    <path d=\"M0 0h24v24H0V0z\" fill=\"none\"/>\n",
              "    <path d=\"M18.56 5.44l.94 2.06.94-2.06 2.06-.94-2.06-.94-.94-2.06-.94 2.06-2.06.94zm-11 1L8.5 8.5l.94-2.06 2.06-.94-2.06-.94L8.5 2.5l-.94 2.06-2.06.94zm10 10l.94 2.06.94-2.06 2.06-.94-2.06-.94-.94-2.06-.94 2.06-2.06.94z\"/><path d=\"M17.41 7.96l-1.37-1.37c-.4-.4-.92-.59-1.43-.59-.52 0-1.04.2-1.43.59L10.3 9.45l-7.72 7.72c-.78.78-.78 2.05 0 2.83L4 21.41c.39.39.9.59 1.41.59.51 0 1.02-.2 1.41-.59l7.78-7.78 2.81-2.81c.8-.78.8-2.07 0-2.86zM5.41 20L4 18.59l7.72-7.72 1.47 1.35L5.41 20z\"/>\n",
              "  </svg>\n",
              "      </button>\n",
              "      \n",
              "  <style>\n",
              "    .colab-df-container {\n",
              "      display:flex;\n",
              "      flex-wrap:wrap;\n",
              "      gap: 12px;\n",
              "    }\n",
              "\n",
              "    .colab-df-convert {\n",
              "      background-color: #E8F0FE;\n",
              "      border: none;\n",
              "      border-radius: 50%;\n",
              "      cursor: pointer;\n",
              "      display: none;\n",
              "      fill: #1967D2;\n",
              "      height: 32px;\n",
              "      padding: 0 0 0 0;\n",
              "      width: 32px;\n",
              "    }\n",
              "\n",
              "    .colab-df-convert:hover {\n",
              "      background-color: #E2EBFA;\n",
              "      box-shadow: 0px 1px 2px rgba(60, 64, 67, 0.3), 0px 1px 3px 1px rgba(60, 64, 67, 0.15);\n",
              "      fill: #174EA6;\n",
              "    }\n",
              "\n",
              "    [theme=dark] .colab-df-convert {\n",
              "      background-color: #3B4455;\n",
              "      fill: #D2E3FC;\n",
              "    }\n",
              "\n",
              "    [theme=dark] .colab-df-convert:hover {\n",
              "      background-color: #434B5C;\n",
              "      box-shadow: 0px 1px 3px 1px rgba(0, 0, 0, 0.15);\n",
              "      filter: drop-shadow(0px 1px 2px rgba(0, 0, 0, 0.3));\n",
              "      fill: #FFFFFF;\n",
              "    }\n",
              "  </style>\n",
              "\n",
              "      <script>\n",
              "        const buttonEl =\n",
              "          document.querySelector('#df-1913e495-a214-4fca-96c9-6e9da2f664be button.colab-df-convert');\n",
              "        buttonEl.style.display =\n",
              "          google.colab.kernel.accessAllowed ? 'block' : 'none';\n",
              "\n",
              "        async function convertToInteractive(key) {\n",
              "          const element = document.querySelector('#df-1913e495-a214-4fca-96c9-6e9da2f664be');\n",
              "          const dataTable =\n",
              "            await google.colab.kernel.invokeFunction('convertToInteractive',\n",
              "                                                     [key], {});\n",
              "          if (!dataTable) return;\n",
              "\n",
              "          const docLinkHtml = 'Like what you see? Visit the ' +\n",
              "            '<a target=\"_blank\" href=https://colab.research.google.com/notebooks/data_table.ipynb>data table notebook</a>'\n",
              "            + ' to learn more about interactive tables.';\n",
              "          element.innerHTML = '';\n",
              "          dataTable['output_type'] = 'display_data';\n",
              "          await google.colab.output.renderOutput(dataTable, element);\n",
              "          const docLink = document.createElement('div');\n",
              "          docLink.innerHTML = docLinkHtml;\n",
              "          element.appendChild(docLink);\n",
              "        }\n",
              "      </script>\n",
              "    </div>\n",
              "  </div>\n",
              "  "
            ]
          },
          "metadata": {},
          "execution_count": 9
        }
      ]
    },
    {
      "cell_type": "code",
      "source": [],
      "metadata": {
        "id": "tIZofoEpkQ1i"
      },
      "execution_count": null,
      "outputs": []
    },
    {
      "cell_type": "code",
      "source": [],
      "metadata": {
        "id": "xXeYSQq2kSHm"
      },
      "execution_count": null,
      "outputs": []
    },
    {
      "cell_type": "code",
      "source": [],
      "metadata": {
        "id": "dXVUejxHkSL4"
      },
      "execution_count": null,
      "outputs": []
    }
  ]
}